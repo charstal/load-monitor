{
 "cells": [
  {
   "cell_type": "code",
   "execution_count": 5,
   "id": "200ac601-1eac-414f-a4c9-49472bcd36d5",
   "metadata": {},
   "outputs": [],
   "source": [
    "from prometheus_api_client import PrometheusConnect,  MetricSnapshotDataFrame, MetricRangeDataFrame\n",
    "from prometheus_api_client.utils import parse_datetime\n",
    "import pandas as pd\n",
    "import datetime as dt\n",
    "\n",
    "prom = PrometheusConnect(url =\"http://10.214.241.226:39090/\", disable_ssl=True)\n",
    "\n",
    "# Get the list of all the metrics that the Prometheus host scrapes\n",
    "# prom.all_metrics()"
   ]
  },
  {
   "cell_type": "code",
   "execution_count": 6,
   "id": "a76be03a-4096-461b-8773-0cfbfc135fd8",
   "metadata": {},
   "outputs": [],
   "source": [
    "def range_data_query(sql):\n",
    "    data = prom.custom_query(sql)\n",
    "    return data\n",
    "\n",
    "def add_data2dict1(data, sql, tag, fc):\n",
    "    dd = range_data_query(sql)\n",
    "\n",
    "    for d in dd:\n",
    "        pod_name = d[\"metric\"][\"pod\"]\n",
    "        value = float(d[\"value\"][1])\n",
    "        if pod_name in data:\n",
    "            data[pod_name][tag] = fc(value)\n",
    "    "
   ]
  },
  {
   "cell_type": "code",
   "execution_count": 7,
   "id": "7ec7a425",
   "metadata": {},
   "outputs": [],
   "source": [
    "\n",
    "data_total_dict = dict()\n",
    "course_label = \"instance\"\n",
    "node_label = \"kubernetes_node\"\n",
    "\n",
    "data = range_data_query(\"last_over_time(kube_pod_labels[15d])\")\n",
    "for d in data:\n",
    "    d = d[\"metric\"]\n",
    "    if course_label in d:\n",
    "        dd = dict()\n",
    "        dd[\"label\"] = d[course_label]\n",
    "        if node_label in d:\n",
    "            dd[\"node\"] = d[node_label]\n",
    "        data_total_dict[d[\"pod\"]] = dd\n",
    "\n",
    "# print(data_total_dict)\n"
   ]
  },
  {
   "cell_type": "code",
   "execution_count": 8,
   "id": "fee3467e",
   "metadata": {},
   "outputs": [
    {
     "name": "stdout",
     "output_type": "stream",
     "text": [
      "{'random-load-job-6bdwz': {'label': '10.244.1.13:8443', 'cpu_std/m': 67.39161675999044, 'cpu_avg/m': 350.62746846000005, 'cpu_request/m': 200.0, 'cpu_limit/m': 400.0, 'mem_std/MiB': 145.63456821687905, 'mem_avg/MiB': 327.25, 'mem_request/MiB': 400.0, 'mem_limit/MiB': 800.0}, 'random-load-job-6bghb': {'label': '10.244.1.13:8443', 'cpu_request/m': 200.0, 'cpu_limit/m': 400.0, 'mem_request/MiB': 400.0, 'mem_limit/MiB': 800.0}, 'kube-flannel-ds-hx96m': {'label': '10.244.1.13:8443', 'cpu_std/m': 2.2280827669232957, 'cpu_avg/m': 9.549956316110842, 'cpu_request/m': 100.0, 'cpu_limit/m': 100.0, 'mem_std/MiB': 0.41735513041440575, 'mem_avg/MiB': 24.451808055311666, 'mem_request/MiB': 50.0, 'mem_limit/MiB': 50.0}, 'kube-flannel-ds-sn8r6': {'label': '10.244.1.13:8443', 'cpu_std/m': 2.6170711819398007, 'cpu_avg/m': 11.803393722805282, 'cpu_request/m': 100.0, 'cpu_limit/m': 100.0, 'mem_std/MiB': 0.19385781416350967, 'mem_avg/MiB': 14.028566953833774, 'mem_request/MiB': 50.0, 'mem_limit/MiB': 50.0}, 'kube-flannel-ds-sv9vw': {'label': '10.244.1.13:8443', 'cpu_std/m': 2.6338051430445364, 'cpu_avg/m': 11.533006029928767, 'cpu_request/m': 100.0, 'cpu_limit/m': 100.0, 'mem_std/MiB': 0.206674982654096, 'mem_avg/MiB': 14.240354980611661, 'mem_request/MiB': 50.0, 'mem_limit/MiB': 50.0}, 'coredns-59d64cd4d4-sjkfn': {'label': '10.244.1.13:8443', 'cpu_std/m': 1.049807302333874, 'cpu_avg/m': 4.535492917787606, 'cpu_request/m': 100.0, 'mem_std/MiB': 0.9564288771204147, 'mem_avg/MiB': 28.27509053994731, 'mem_request/MiB': 70.0, 'mem_limit/MiB': 170.0}, 'coredns-59d64cd4d4-zgxpm': {'label': '10.244.1.13:8443', 'cpu_std/m': 1.1196163578834344, 'cpu_avg/m': 4.46897774707414, 'cpu_request/m': 100.0, 'mem_std/MiB': 1.1448036366995311, 'mem_avg/MiB': 27.863368131767672, 'mem_request/MiB': 70.0, 'mem_limit/MiB': 170.0}, 'etcd-k8s-master': {'label': '10.244.1.13:8443', 'cpu_std/m': 4.137516428654151, 'cpu_avg/m': 18.2466048259869, 'cpu_request/m': 100.0, 'mem_std/MiB': 16.991037747857693, 'mem_avg/MiB': 309.6866803391133, 'mem_request/MiB': 100.0}, 'kube-apiserver-k8s-master': {'label': '10.244.1.13:8443', 'cpu_std/m': 15.475252862891796, 'cpu_avg/m': 72.06388784851399, 'cpu_request/m': 250.0, 'mem_std/MiB': 7.961335928731383, 'mem_avg/MiB': 380.37531437481664}, 'kube-controller-manager-k8s-master': {'label': '10.244.1.13:8443', 'cpu_std/m': 3.690372317875268, 'cpu_avg/m': 16.441358678777295, 'cpu_request/m': 200.0, 'mem_std/MiB': 1.0489684071802885, 'mem_avg/MiB': 66.76923287971917}, 'kube-proxy-g646j': {'label': '10.244.1.13:8443', 'cpu_std/m': 0.643360304432266, 'cpu_avg/m': 0.6012315578532309, 'mem_std/MiB': 0.07263470239347904, 'mem_avg/MiB': 14.452088134694174}, 'kube-proxy-s7q4x': {'label': '10.244.1.13:8443', 'cpu_std/m': 0.5086792086377688, 'cpu_avg/m': 0.584160432718759, 'mem_std/MiB': 0.09628918604914416, 'mem_avg/MiB': 14.51975874304945}, 'kube-proxy-xshf9': {'label': '10.244.1.13:8443', 'cpu_std/m': 0.45537915393362904, 'cpu_avg/m': 0.5033492829367368, 'mem_std/MiB': 0.08781988131043285, 'mem_avg/MiB': 24.03592218137259}, 'kube-scheduler-k8s-master': {'label': '10.244.1.13:8443', 'cpu_std/m': 0.9059157430189951, 'cpu_avg/m': 3.833722173166949, 'cpu_request/m': 100.0, 'mem_std/MiB': 0.2547981239221413, 'mem_avg/MiB': 26.166089360184397}, 'dashboard-metrics-scraper-7c857855d9-wbplk': {'label': '10.244.1.13:8443', 'cpu_std/m': 0.28832783163517134, 'cpu_avg/m': 0.4711968692776668, 'mem_std/MiB': 0.1279325270063716, 'mem_avg/MiB': 9.346578230172675}, 'kubernetes-dashboard-658b66597c-mhdxm': {'label': '10.244.1.13:8443', 'cpu_std/m': 0.2509550661044102, 'cpu_avg/m': 0.6964968734172293, 'mem_std/MiB': 0.3068619546417405, 'mem_avg/MiB': 15.103769982806572}, 'alertmanager-main-0': {'label': '10.244.1.13:8443', 'cpu_std/m': 1.5679445136607237, 'cpu_avg/m': 5.2153563857965, 'cpu_request/m': 104.00000000000001, 'cpu_limit/m': 200.0, 'mem_std/MiB': 0.9546061383236275, 'mem_avg/MiB': 23.88565216198423, 'mem_request/MiB': 150.0, 'mem_limit/MiB': 150.0}, 'alertmanager-main-1': {'label': '10.244.1.13:8443', 'cpu_std/m': 1.5054923619988514, 'cpu_avg/m': 5.7643629179209785, 'cpu_request/m': 104.00000000000001, 'cpu_limit/m': 200.0, 'mem_std/MiB': 0.9887449073700748, 'mem_avg/MiB': 23.830612562189113, 'mem_request/MiB': 150.0, 'mem_limit/MiB': 150.0}, 'alertmanager-main-2': {'label': '10.244.1.13:8443', 'cpu_std/m': 1.3449981361981544, 'cpu_avg/m': 5.121773587456354, 'cpu_request/m': 104.00000000000001, 'cpu_limit/m': 200.0, 'mem_std/MiB': 0.8877689358138486, 'mem_avg/MiB': 24.56537052787537, 'mem_request/MiB': 150.0, 'mem_limit/MiB': 150.0}, 'blackbox-exporter-6798fb5bb4-4hzcm': {'label': '10.244.1.13:8443', 'cpu_std/m': 0.6561840775562076, 'cpu_avg/m': 0.7424135775046342, 'cpu_request/m': 30.0, 'cpu_limit/m': 60.0, 'mem_std/MiB': 1.3011902912695112, 'mem_avg/MiB': 26.062328522827027, 'mem_request/MiB': 60.0, 'mem_limit/MiB': 120.0}, 'grafana-7476b4c65b-qjmph': {'label': '10.244.1.13:8443', 'cpu_std/m': 3.62055469920413, 'cpu_avg/m': 15.171419035606288, 'cpu_request/m': 100.0, 'cpu_limit/m': 200.0, 'mem_std/MiB': 1.4939221611728803, 'mem_avg/MiB': 42.32354770266316, 'mem_request/MiB': 100.0, 'mem_limit/MiB': 200.0}, 'kube-state-metrics-74964b6cd4-5jzl7': {'label': '10.244.1.13:8443', 'cpu_std/m': 1.0697824322533755, 'cpu_avg/m': 2.071870485699198, 'cpu_request/m': 40.0, 'cpu_limit/m': 160.0, 'mem_std/MiB': 1.537665541361105, 'mem_avg/MiB': 41.57533449480535, 'mem_request/MiB': 230.0, 'mem_limit/MiB': 330.0}, 'node-exporter-7g7fx': {'label': '10.244.1.13:8443', 'cpu_std/m': 2.246503239446056, 'cpu_avg/m': 8.669128244463494, 'cpu_request/m': 111.99999999999999, 'cpu_limit/m': 270.0, 'mem_std/MiB': 1.0141747455932772, 'mem_avg/MiB': 38.917735541044756, 'mem_request/MiB': 200.0, 'mem_limit/MiB': 220.0}, 'node-exporter-mhzvp': {'label': '10.244.1.13:8443', 'cpu_std/m': 3.500432462408397, 'cpu_avg/m': 12.43727640830165, 'cpu_request/m': 111.99999999999999, 'cpu_limit/m': 270.0, 'mem_std/MiB': 1.1410811654723163, 'mem_avg/MiB': 25.305756374378106, 'mem_request/MiB': 200.0, 'mem_limit/MiB': 220.0}, 'node-exporter-xlrt7': {'label': '10.244.1.13:8443', 'cpu_std/m': 3.079326520886076, 'cpu_avg/m': 12.6658581712231, 'cpu_request/m': 111.99999999999999, 'cpu_limit/m': 270.0, 'mem_std/MiB': 1.159589474033703, 'mem_avg/MiB': 25.048713235294144, 'mem_request/MiB': 200.0, 'mem_limit/MiB': 220.0}, 'prometheus-adapter-8587b9cf9b-dqm66': {'label': '10.244.1.13:8443', 'cpu_std/m': 1.5509385667958544, 'cpu_avg/m': 6.349318301277931, 'cpu_request/m': 102.0, 'cpu_limit/m': 250.0, 'mem_std/MiB': 1.916505668484701, 'mem_avg/MiB': 29.236598487342654, 'mem_request/MiB': 180.0, 'mem_limit/MiB': 180.0}, 'prometheus-adapter-8587b9cf9b-mcbhj': {'label': '10.244.1.13:8443', 'cpu_std/m': 1.9075325708514403, 'cpu_avg/m': 6.0281068545865555, 'cpu_request/m': 102.0, 'cpu_limit/m': 250.0, 'mem_std/MiB': 2.034819969307696, 'mem_avg/MiB': 27.652234004609276, 'mem_request/MiB': 180.0, 'mem_limit/MiB': 180.0}, 'prometheus-k8s-0': {'label': '10.244.1.13:8443', 'cpu_std/m': 18.834893835629146, 'cpu_avg/m': 50.46742701810553, 'cpu_request/m': 100.0, 'cpu_limit/m': 100.0, 'mem_std/MiB': 13.359348261403303, 'mem_avg/MiB': 419.0330356489612, 'mem_request/MiB': 450.0, 'mem_limit/MiB': 50.0}, 'prometheus-k8s-1': {'label': '10.244.1.13:8443', 'cpu_std/m': 13.422471030514961, 'cpu_avg/m': 55.230958549556995, 'cpu_request/m': 100.0, 'cpu_limit/m': 100.0, 'mem_std/MiB': 11.583279833635471, 'mem_avg/MiB': 420.5023195145598, 'mem_request/MiB': 450.0, 'mem_limit/MiB': 50.0}, 'prometheus-operator-75d9b475d9-9wcmr': {'label': '10.244.1.13:8443', 'cpu_std/m': 0.9738178733313684, 'cpu_avg/m': 1.4057529068445818, 'cpu_request/m': 110.0, 'cpu_limit/m': 220.0, 'mem_std/MiB': 1.3133943699990895, 'mem_avg/MiB': 38.29727625658468, 'mem_request/MiB': 120.0, 'mem_limit/MiB': 240.0}}\n"
     ]
    }
   ],
   "source": [
    "\n",
    "\n",
    "sql_list = [\n",
    "    (\"sum(stddev_over_time(node_namespace_pod_container:container_cpu_usage_seconds_total:sum_irate[15d])) by (pod)\", \"cpu_std/m\", lambda x : x * 1000),\n",
    "    (\"sum(avg_over_time(node_namespace_pod_container:container_cpu_usage_seconds_total:sum_irate[15d])) by (pod)\", \"cpu_avg/m\", lambda x: x * 1000),\n",
    "    (\"sum(last_over_time(cluster:namespace:pod_cpu:active:kube_pod_container_resource_requests[15d])) by (pod)\", \"cpu_request/m\", lambda x: x * 1000),\n",
    "    (\"sum(last_over_time(cluster:namespace:pod_cpu:active:kube_pod_container_resource_limits[15d])) by (pod)\", \"cpu_limit/m\", lambda x: x * 1000),\n",
    "\n",
    "\n",
    "    (\"sum(stddev_over_time(node_namespace_pod_container:container_memory_working_set_bytes[15d])) by (pod)\", \"mem_std/MiB\", lambda x: x / 1024/ 1024),\n",
    "    (\"sum(avg_over_time(node_namespace_pod_container:container_memory_working_set_bytes[15d])) by (pod)\", \"mem_avg/MiB\", lambda x: x / 1024 / 1024),\n",
    "    (\"sum(last_over_time(cluster:namespace:pod_memory:active:kube_pod_container_resource_requests[15d])) by (pod)\", \"mem_request/MiB\", lambda x: x / 1024 / 1024),\n",
    "    (\"sum(last_over_time(cluster:namespace:pod_memory:active:kube_pod_container_resource_limits[15d])) by (pod)\", \"mem_limit/MiB\", lambda x: x / 1024 / 1024),\n",
    "\n",
    "\n",
    "]\n",
    "\n",
    "for sql in sql_list:\n",
    "    add_data2dict1(data_total_dict, sql[0], sql[1], sql[2])\n",
    "\n",
    "\n",
    "print(data_total_dict)"
   ]
  },
  {
   "cell_type": "code",
   "execution_count": 9,
   "id": "b7e740b6",
   "metadata": {},
   "outputs": [],
   "source": [
    "data = pd.DataFrame(data_total_dict)\n",
    "\n",
    "data = data.T\n",
    "data.to_csv(\"pod_info.csv\")"
   ]
  },
  {
   "cell_type": "code",
   "execution_count": 10,
   "id": "b7a57ed2",
   "metadata": {},
   "outputs": [],
   "source": [
    "statistics_label = [\"cpu_std/m\", \"cpu_avg/m\", \"mem_std/MiB\", \"mem_avg/MiB\"]\n",
    "\n",
    "new_data = data.groupby(data[\"label\"])[statistics_label].mean()\n",
    "\n",
    "new_data.loc[\"all\"] = data[statistics_label].mean()\n",
    "new_data.to_csv(\"statistics.csv\")\n"
   ]
  },
  {
   "cell_type": "code",
   "execution_count": null,
   "id": "f2279482",
   "metadata": {},
   "outputs": [],
   "source": []
  }
 ],
 "metadata": {
  "kernelspec": {
   "display_name": "Python 3 (ipykernel)",
   "language": "python",
   "name": "python3"
  }
 },
 "nbformat": 4,
 "nbformat_minor": 5
}
